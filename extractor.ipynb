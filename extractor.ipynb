{
 "cells": [
  {
   "cell_type": "markdown",
   "metadata": {},
   "source": [
    "## Imports"
   ]
  },
  {
   "cell_type": "code",
   "execution_count": 8,
   "metadata": {},
   "outputs": [],
   "source": [
    "import numpy as np\n",
    "import matplotlib.pyplot as plt\n",
    "from tqdm import tqdm\n",
    "from scipy.sparse import csr_matrix as csr\n",
    "import scipy.sparse as ss\n",
    "import pickle\n",
    "from datetime import datetime as dt\n",
    "import math\n",
    "import operator as op\n",
    "from functools import reduce"
   ]
  },
  {
   "cell_type": "markdown",
   "metadata": {},
   "source": [
    "## Data Source"
   ]
  },
  {
   "cell_type": "code",
   "execution_count": 16,
   "metadata": {},
   "outputs": [],
   "source": [
    "data = <PATH>"
   ]
  },
  {
   "cell_type": "markdown",
   "metadata": {},
   "source": [
    "## Preprocessing"
   ]
  },
  {
   "cell_type": "code",
   "execution_count": null,
   "metadata": {},
   "outputs": [],
   "source": [
    "edge = []\n",
    "\n",
    "f = open(<PATH>, 'r')\n",
    "list = f.read().splitlines()\n",
    "\n",
    "for i in range(len(list)):\n",
    "    a = list[i]\n",
    "    b = a.split()\n",
    "    b = [int(i) for i in b]\n",
    "    edge.append(b)\n",
    "#print(edges)\n",
    "edge = np.asarray(edge)\n",
    "edge = edge.astype(int)\n",
    "vertices = edge.max()\n",
    "edges2x=np.zeros((2*len(edge),2))\n",
    "for i in range(len(edge)):\n",
    "    edges2x[2*i,0] = edge[i,0]\n",
    "    edges2x[2*i,1] = edge[i,1]\n",
    "    edges2x[2*i+1,0] = edge[i,1]\n",
    "    edges2x[2*i+1,1] = edge[i,0]\n",
    "    \n",
    "edges2x = edges2x.astype(int)\n",
    "adj = [[] for _ in range(vertices+1)]\n",
    "for i in tqdm(range(len(edges2x))):\n",
    "    j = edges2x[i,0]\n",
    "    adj[j].append(edges2x[i,1])\n",
    "    #print(i, j)\n",
    "#print(adj[j])\n"
   ]
  },
  {
   "cell_type": "code",
   "execution_count": 4,
   "metadata": {},
   "outputs": [],
   "source": [
    "edge[:,:2] = np.sort(edge[:,:2])\n",
    "edges = np.unique(edge, axis = 0) #prevent duplication"
   ]
  },
  {
   "cell_type": "code",
   "execution_count": null,
   "metadata": {},
   "outputs": [],
   "source": [
    "np.unique(edges, axis = 0).shape[0]/edges.shape[0] #check for duplication"
   ]
  },
  {
   "cell_type": "code",
   "execution_count": 6,
   "metadata": {},
   "outputs": [
    {
     "data": {
      "image/png": "[encoded data removed]",
      "text/plain": [
       "<Figure size 432x288 with 1 Axes>"
      ]
     },
     "metadata": {
      "needs_background": "light"
     },
     "output_type": "display_data"
    }
   ],
   "source": [
    "degree = np.zeros(len(adj))\n",
    "for i in range(len(degree)):\n",
    "    degree[i] = len(adj[i])\n",
    "plt.plot(degree)\n",
    "degree = degree.astype(int)"
   ]
  },
  {
   "cell_type": "code",
   "execution_count": null,
   "metadata": {},
   "outputs": [],
   "source": [
    "rows = edges[:,0]\n",
    "cols = edges[:,1]\n",
    "roots = np.sqrt(degree)\n",
    "weights = np.zeros(len(edges))\n",
    "for i in tqdm(range(len(edges))):\n",
    "    weights[i] = 1/(roots[edges[i,0]]*roots[edges[i,1]])\n",
    "\n",
    "edge_weights = csr((weights, (rows,cols)))\n",
    "ss.save_npz(data+\"edgeweights.npz\", edge_weights)"
   ]
  },
  {
   "cell_type": "code",
   "execution_count": null,
   "metadata": {},
   "outputs": [],
   "source": [
    "tri =[]\n",
    "for i in tqdm(range(1,vertices+1)):\n",
    "    for j in adj[i]:\n",
    "        tris = np.intersect1d(adj[i],adj[j])\n",
    "        if tris.size:\n",
    "            for x in tris:\n",
    "                tri.append([i,j,x])"
   ]
  },
  {
   "cell_type": "code",
   "execution_count": null,
   "metadata": {},
   "outputs": [],
   "source": [
    "tri = np.asarray(tri) \n",
    "\n",
    "tri[:,:3] = np.sort(tri[:,:3])  #necessary to remove duplicates with unique\n",
    "\n",
    "print(tri.shape)\n",
    "\n",
    "trip = np.unique(tri[:,:3], axis = 0) #remove duplicates\n",
    "\n",
    "\n",
    "trianglewtstmp = np.zeros(trip.shape[0])\n",
    "tri = np.insert(trip, 3, trianglewtstmp, axis = 1) #append row for weights\n",
    "tri = tri.astype(np.float64)\n",
    "#print()\n",
    "\n",
    "for i in tqdm(range(len(trianglewtstmp))):\n",
    "    k = trip [i,0]\n",
    "    j = trip [i,1]\n",
    "    x = trip [i,2]\n",
    "    tri[i,3] = 1/((roots[k]*roots[j]*roots[x])**2) #assign weights\n",
    "        \n",
    "    \n",
    "print(tri.shape)"
   ]
  },
  {
   "cell_type": "code",
   "execution_count": null,
   "metadata": {},
   "outputs": [],
   "source": [
    "test = np.zeros ((tri.shape[0],5))\n",
    "test[:,:4] = tri\n",
    "test[:,4] = 1 #add label for present; when triangles are removed from the graph due to cleaning or extraction, label is changed to 0\n",
    "print(test)\n",
    "tri = test"
   ]
  },
  {
   "cell_type": "code",
   "execution_count": null,
   "metadata": {},
   "outputs": [],
   "source": [
    "edgetri = np.zeros((edges.shape[0], 4)) #similar format for triangle weights on edges\n",
    "print(edgetri.shape)\n",
    "edgetri[:,3] = 1\n",
    "edgetri[:,:2] = edges[:,:2]\n",
    "for i in tqdm(range(edges.shape[0])):\n",
    "    x = edgetri[i,0].astype(int)\n",
    "    y = edgetri[i,1].astype(int)\n",
    "    common = np.intersect1d(adj[x],adj[y])\n",
    "    sums = 0\n",
    "    for a in common:\n",
    "        sums = sums + 1/(roots[a]**2)\n",
    "    edgetri[i, 2] = 1/((roots[x]*roots[y])**2)*sums\n",
    "\n",
    "#print(edgetri)\n",
    "        "
   ]
  },
  {
   "cell_type": "code",
   "execution_count": null,
   "metadata": {},
   "outputs": [],
   "source": [
    "test2 = np.zeros((edges.shape[0],4))\n",
    "test2[:,:2]=edges\n",
    "test2[:,2] = weights\n",
    "test2[:,3] = 1\n",
    "edges = test2 #appending column with labels for edges (binary label for present/not)\n",
    "#print(edges)"
   ]
  },
  {
   "cell_type": "code",
   "execution_count": null,
   "metadata": {},
   "outputs": [],
   "source": [
    "vtxlist = np.zeros((vertices+1,3))\n",
    "for i in range(vertices+1):\n",
    "    vtxlist[i,0] = i\n",
    "    vtxlist[i,1] = degree[i]\n",
    "    vtxlist[i,2] = 1\n",
    "vtxlist = vtxlist.astype(int) #additional array for vertices, degrees and labels "
   ]
  },
  {
   "cell_type": "code",
   "execution_count": null,
   "metadata": {},
   "outputs": [],
   "source": [
    "#verify formats\n",
    "\n",
    "tri, edges, edgetri, vtxlist"
   ]
  },
  {
   "cell_type": "markdown",
   "metadata": {},
   "source": [
    "## Save to file (ignore if not first time)"
   ]
  },
  {
   "cell_type": "code",
   "execution_count": null,
   "metadata": {},
   "outputs": [],
   "source": [
    "with open(data+\"list.pickle\", \"wb\") as fp:   #Pickling\n",
    "    pickle.dump(adj, fp)\n",
    "with open(data+\"edges.pickle\", \"wb\") as fp2:   #Pickling\n",
    "    pickle.dump(edges, fp2)\n",
    "with open(data+\"alltriangles.pickle\", \"wb\") as fp3:   #Pickling\n",
    "    pickle.dump(tri, fp3)\n",
    "with open(data+\"trianglebyedge.pickle\", \"wb\") as fp4:   #Pickling\n",
    "    pickle.dump(edgetri, fp4)\n",
    "np.save(data+\"degrees\", degree)"
   ]
  },
  {
   "cell_type": "code",
   "execution_count": null,
   "metadata": {},
   "outputs": [],
   "source": [
    "np.save(data+\"vtxlist\", vtxlist)"
   ]
  },
  {
   "cell_type": "markdown",
   "metadata": {},
   "source": [
    "## Cleaning"
   ]
  },
  {
   "cell_type": "code",
   "execution_count": 9,
   "metadata": {},
   "outputs": [],
   "source": [
    "def clean(edgep, edgetrip, adjs, epsilon, degree, trip, vtx):\n",
    "    \n",
    "    length = np.sum(vtx[:,2])\n",
    "    \n",
    "    times = 5\n",
    "    \n",
    "    tris = trip.copy()\n",
    "    edge = edgep.copy()\n",
    "    edgetris = edgetrip.copy()\n",
    "    \n",
    "    for k in range(times):\n",
    "        for i in range(len(edge)):\n",
    "            if edge[i,3] == 1 and edgetris[i,2]<epsilon*edge[i,2]:\n",
    "                edge[i,3] = 0\n",
    "                edgetris[i,3] = 0\n",
    "                x = edge[i,0].astype(int)\n",
    "                y = edge[i,1].astype(int)\n",
    "                #print(x,y)\n",
    "                intersect = np.intersect1d(adjs[x],adjs[y])\n",
    "                if y in adjs[x]:\n",
    "                    adjs[x].remove(y)\n",
    "                if x in adjs[y]:\n",
    "                    adjs[y].remove(x)\n",
    "                #print(intersect)\n",
    "                for z in intersect:\n",
    "                    wt = (1/(degree[x]*degree[y]*degree[z]))**(0.5)\n",
    "                    a, b, c = np.sort(np.array([x, y, z]))\n",
    "                    #print(a,b,c)\n",
    "                    triangleloc = np.where((tris[:, 0] == a) & (tris[:, 1] == b) & (tris[:, 2] == c))[0]\n",
    "                    #print(triangleloc)\n",
    "                    tris[triangleloc, 4] = 0 \n",
    "                    edge_1 = np.where((edge[:, 0] == a) & (edge[:, 1] == b))[0][0] #remove all incident triangles\n",
    "                    edge_2 = np.where((edge[:, 0] == a) & (edge[:, 1] == c))[0][0]\n",
    "                    edge_3 = np.where((edge[:, 0] == b) & (edge[:, 1] == c))[0][0]\n",
    "                    #if i == 14890:\n",
    "                    #    print(a, b, c)\n",
    "                    edgetris[edge_1,2] = edgetris[edge_1,2] - wt #update weights on edges corresponding to removed triangles\n",
    "                    edgetris[edge_2,2] = edgetris[edge_2,2] - wt\n",
    "                    edgetris[edge_3,2] = edgetris[edge_3,2] - wt \n",
    "                    \n",
    "    for i in range(len(adjs)):\n",
    "        vtx[i,1] = len(adjs[i])\n",
    "        if len(adjs[i]) == 0:\n",
    "            vtx[i,2] = 0\n",
    "            \n",
    "    for i in range(edge.shape[0]):\n",
    "        if edge[i,3] == 0:\n",
    "            x = edge[i,0].astype(int)\n",
    "            y = edge[i,1].astype(int)\n",
    "            if x in adjs[y]:\n",
    "                adjs[y].remove(x)\n",
    "            if y in adjs[x]:\n",
    "                adjs[x].remove(y)\n",
    "                \n",
    "    z = np.where(vtx[:,2]==1)[0]\n",
    "    if vtx[z,1].max() == 1:\n",
    "        vtx[z,2] = 0\n",
    "        \n",
    "    return edge, edgetris, tris, adjs, vtx"
   ]
  },
  {
   "cell_type": "markdown",
   "metadata": {},
   "source": [
    "## Extraction"
   ]
  },
  {
   "cell_type": "code",
   "execution_count": 10,
   "metadata": {},
   "outputs": [],
   "source": [
    "#this is for dblp; modified\n",
    "\n",
    "def extract(adjp, degree, vtxlistx, trip, eps, eps2, edgex):\n",
    "    \n",
    "    adjx = adjp.copy()\n",
    "    \n",
    "    indices = np.nonzero(degree)[0]\n",
    "    order = indices[np.argsort(degree[indices])]\n",
    "   \n",
    "    k = order[0]\n",
    "    i = 0\n",
    "    \n",
    "    trix = trip[np.where(trip[:,4]!=0)]\n",
    "    \n",
    "    #print(order.shape)\n",
    "    \n",
    "    while vtxlistx[k,2] == 0 or vtxlistx[k,1]<2:\n",
    "        i = i+1\n",
    "        k = order[i]\n",
    "        #print(k)\n",
    "    \n",
    "    #print(k)\n",
    "    \n",
    "    delta = degree[k] \n",
    "    print('Delta =', delta)\n",
    "    \n",
    "    vtx =  []\n",
    "    \n",
    "    vtx.append(k)\n",
    "    #print(k, adjx[k])\n",
    "    for i in adjx[k]:\n",
    "        if degree[i]<delta/eps**2 and vtxlistx[i,2]==1:\n",
    "            #print('true')\n",
    "            vtx.append(i)\n",
    "        #else:\n",
    "            #print('false')\n",
    "            \n",
    "    twohop = [] \n",
    "    vtx = np.asarray(vtx)\n",
    "    vtx = vtx.astype(int)\n",
    "    #print(vtx)\n",
    "    for i in vtx:\n",
    "        #print('i is ', i)\n",
    "        twohop = np.union1d(twohop,adjx[i])\n",
    "        #print('twohop is ', twohop)\n",
    "        #print(adjx[i])\n",
    "        \n",
    "    \n",
    "    #print(twohop)\n",
    "    \n",
    "    twohop = np.setdiff1d(twohop,vtx)\n",
    "    twohop = np.asarray(twohop)\n",
    "    twohop = twohop.astype(int)\n",
    "    vtx = np.union1d(vtx,twohop)\n",
    "    \n",
    "    \n",
    "    rem = []\n",
    "    \n",
    "    for i in twohop:\n",
    "        if len(adjx[i])>4*len(np.intersect1d(vtx,adjx[i])): #proxy for true extraction: include only vertices with high intersection with one hop neighborhood, makes computations faster without significant changes to outcome\n",
    "            rem.append(i)\n",
    "    \n",
    "    vtx = np.setdiff1d(vtx,rem)\n",
    "    \n",
    "    #vtx = np.union1d(vtx,twohop)\n",
    "            \n",
    "    #for i in range(trix.shape[0]):\n",
    "    #    if trix[i,0] in vtx:\n",
    "    #        a = np.where(edge[])\n",
    "            \n",
    "    for v in vtx: #update removal of extracted vertices from entire graph; corresponding removal from edge and triangle list done in function trim\n",
    "        vtxlistx[v,2] = 0\n",
    "        for i in range(vtxlistx.shape[0]):\n",
    "            if v in adjx[i]:\n",
    "                adjx[i].remove(v)\n",
    "        adjx[v] = []\n",
    "        \n",
    "    size = len(vtx)\n",
    "    print(size)\n",
    "    total = size*(size-1)/2\n",
    "    dsty = 0\n",
    "        \n",
    "    for i in range(edgex.shape[0]):\n",
    "        if edgex[i,0] in vtx and edgex[i,1] in vtx and edgex[i,3]==1:\n",
    "            dsty = dsty+1\n",
    "    \n",
    "    dsty = dsty/total\n",
    "    \n",
    "    return vtx, vtxlistx, adjx, dsty\n",
    "        "
   ]
  },
  {
   "cell_type": "markdown",
   "metadata": {},
   "source": [
    "## Helper Functions for Statistics"
   ]
  },
  {
   "cell_type": "code",
   "execution_count": 11,
   "metadata": {},
   "outputs": [],
   "source": [
    "def trim(edges_x, edgetri_x, tri_x, vtxlist_x, vtx_x): #helper function to clean up repercussions of removal of vertices\n",
    "    \n",
    "    edges_post = edges_x.copy()\n",
    "    edgetri_post = edgetri_x.copy()\n",
    "    tri_post = tri_x.copy()\n",
    "    vtx_post = vtxlist_x.copy()\n",
    "    vtx_ex = vtx_x.copy()\n",
    "    \n",
    "    a=0\n",
    "    b=0\n",
    "    c=0\n",
    "\n",
    "    for i in range(edges_post.shape[0]):\n",
    "        if edges_post[i,0] in vtx_ex or edges_post[i,1] in vtx_ex:\n",
    "            edges_post[i,3] = 0\n",
    "            edgetri_post[i,3] = 0\n",
    "            a = a + 1\n",
    "\n",
    "    for i in range(tri_post.shape[0]):\n",
    "        if tri_post[i,0] in vtx_ex or tri_post[i,1] in vtx_ex or tri_post[i,2] in vtx_ex:\n",
    "            tri_post[i,4] = 0\n",
    "            b = b + 1\n",
    "\n",
    "    for i in range(vtx_post.shape[0]):\n",
    "        if vtx_post[i,0] in vtx_ex:\n",
    "            vtx_post[i,2] = 0\n",
    "            c = c+1\n",
    "\n",
    "    edgelost = a\n",
    "    trilost = b\n",
    "    vtxlost = c\n",
    "    \n",
    "    return edgetri_post, tri_post, edges_post, vtx_post, edgelost, trilost, vtxlost\n"
   ]
  },
  {
   "cell_type": "code",
   "execution_count": 12,
   "metadata": {},
   "outputs": [],
   "source": [
    "def calcstats(tri_x, vtxs, edg): #calculating other statistics, variable names self explanatory\n",
    "    \n",
    "    trix = tri_x.copy()\n",
    "    vtx_e2 = vtxs.copy()\n",
    "    edgx = edg.copy()\n",
    "    \n",
    "    sumtri = 0\n",
    "    k = 0\n",
    "\n",
    "    for i in range(trix.shape[0]):\n",
    "        if trix[i,0] in vtx_e2 and trix[i,1] in vtx_e2 and trix[i,2] in vtx_e2 and trix[i,4] == 1:\n",
    "            #print('YES')\n",
    "            sumtri = sumtri + trix[i,3]\n",
    "            k = k+1\n",
    "    a = 0\n",
    "    b = 0\n",
    "    c = 0\n",
    "    \n",
    "    triin = k\n",
    "    k = 0\n",
    "    \n",
    "    sumlost = 0\n",
    "    \n",
    "    for i in range(trix.shape[0]):\n",
    "        if trix[i,0] in vtx_e2:\n",
    "            a = 1\n",
    "        if trix[i,1] in vtx_e2:\n",
    "            b = 1   \n",
    "        if trix[i,2] in vtx_e2:\n",
    "            c = 1\n",
    "        if trix[i,4]==1:\n",
    "            if a*b*c == 0 and a+b+c>0:\n",
    "                sumlost = sumlost + trix[i,3]\n",
    "                k = k+1\n",
    "                trix[i,4] = 0\n",
    "                #print(trix[i,:3])\n",
    "                x, y, z = trix[i,0], trix[i,1], trix[i,2]\n",
    "                edge1 = np.where((edgx[:,0]==x) & (edgx[:,1]==y))[0][0]\n",
    "                edge2 = np.where((edgx[:,0]==x) & (edgx[:,1]==z))[0][0]\n",
    "                #print(x,y,z,i)\n",
    "                edge3 = np.where((edgx[:,0]==y) & (edgx[:,1]==z))[0][0]\n",
    "                \n",
    "                edgx[edge1,2] = edgx[edge1,2] - trix[i,3]\n",
    "                edgx[edge2,2] = edgx[edge2,2] - trix[i,3]\n",
    "                edgx[edge3,2] = edgx[edge3,2] - trix[i,3]                \n",
    "                \n",
    "                \n",
    "        a = 0\n",
    "        b = 0\n",
    "        c = 0\n",
    "\n",
    "    trioutlost = k\n",
    "    \n",
    "     \n",
    "        \n",
    "    \n",
    "    return sumtri, triin, sumlost, trioutlost, edgx"
   ]
  },
  {
   "cell_type": "markdown",
   "metadata": {},
   "source": [
    "## Main"
   ]
  },
  {
   "cell_type": "code",
   "execution_count": 17,
   "metadata": {
    "scrolled": true
   },
   "outputs": [
    {
     "name": "stdout",
     "output_type": "stream",
     "text": [
      "2022-07-23 09:07:31.735703 : Sort Begins.\n"
     ]
    }
   ],
   "source": [
    "with open(data+\"edges.pickle\", \"rb\") as fp2:   #Pickling\n",
    "    edges_o = pickle.load(fp2)\n",
    "with open(data+\"alltriangles.pickle\", \"rb\") as fp3:   #Pickling\n",
    "    tri_o = pickle.load(fp3)\n",
    "with open(data+\"trianglebyedge.pickle\", \"rb\") as fp4:   #Pickling\n",
    "    edgetri_o = pickle.load(fp4)\n",
    "with open(data+\"list.pickle\", \"rb\") as fp:   #Pickling\n",
    "    adj_o = pickle.load(fp)\n",
    "degree = np.load(data+\"degrees.npy\")\n",
    "vtxlist_o = np.load(data+\"vtxlist.npy\")\n",
    "\n",
    "edges = edges_o.copy()\n",
    "tri = tri_o.copy()\n",
    "edgetri = edgetri_o.copy()\n",
    "adj = adj_o.copy()\n",
    "vtxlist = vtxlist_o.copy()\n",
    "\n",
    "print(dt.now(),\": Sort Begins.\")\n",
    "\n",
    "\n",
    "edges[:,:2] = np.sort(edges[:,:2])\n",
    "edgetri[:,:2] = np.sort(edgetri[:,:2])\n",
    "tri[:,:3] = np.sort(tri[:,:3])\n",
    "    \n",
    "epsilon = 0.1\n",
    "\n",
    "components = []\n",
    "stat = []"
   ]
  },
  {
   "cell_type": "code",
   "execution_count": 18,
   "metadata": {},
   "outputs": [
    {
     "name": "stdout",
     "output_type": "stream",
     "text": [
      "2022-07-23 09:07:33.300680 : Clean+Extract Begins.\n"
     ]
    }
   ],
   "source": [
    "\n",
    "\n",
    "print(dt.now(),\": Clean+Extract Begins.\")\n",
    "\n",
    "clusters = 0\n",
    "\n",
    "cardinality = vtxlist.shape[0]\n",
    "extracted = 0"
   ]
  },
  {
   "cell_type": "code",
   "execution_count": null,
   "metadata": {
    "scrolled": true
   },
   "outputs": [],
   "source": [
    "counter = 0\n",
    "maxsize = 0\n",
    "\n",
    "while(1):\n",
    "    \n",
    "    #sumtri, triin, sumlost, trioutlost = 0, 0, 0, 0\n",
    "    edges_c, edgetri_c, tri_c, adj_c, vtxlist_c = clean(edges, edgetri, adj, epsilon, degree, tri, vtxlist)\n",
    "    surviving = np.sum(vtxlist_c[:,2])\n",
    "    if np.sum(vtxlist_c[:,2]) < 3:\n",
    "        break\n",
    "    else:\n",
    "        vtx_e, vtxlist_e, adj_e, density = extract (adj_c, degree, vtxlist_c, tri_c, epsilon, epsilon, edges_c)\n",
    "        edgetri, tri, edges, vtxlist, edgelost, trilost, vtxlost = trim(edges_c, edgetri_c, tri_c, vtxlist_c, vtx_e)\n",
    "        sumtri, triin, sumlost, trioutlost, edgetri = calcstats(tri_c, vtx_e, edgetri_c)\n",
    "        adj = adj_e\n",
    "        components.append(vtx_e)\n",
    "        clusters = clusters + 1\n",
    "    statistics = [surviving, edgelost, trilost, vtxlost, sumtri, triin, sumlost, trioutlost, density]\n",
    "    #print(statistics)\n",
    "    stat.append(statistics)\n",
    "    if np.sum(vtxlist[:,2]) == 0:\n",
    "        break\n",
    "    else: \n",
    "        print(len(components), \": \", np.sum(vtxlist[:,2]),' vertices left!')\n",
    "    maxsize = max(maxsize,len(vtx_e))\n",
    "    if counter%100 == 0:\n",
    "        print('Largest cluster is of size ', maxsize) #comment the loop prints out if they cause overflows\n",
    "    #print(len(vtx_e))\n",
    "    counter = counter+1\n",
    "\n",
    "\n",
    "print(clusters, \" clusters extracted!\") "
   ]
  },
  {
   "cell_type": "code",
   "execution_count": null,
   "metadata": {
    "scrolled": true
   },
   "outputs": [
    {
     "data": {
      "text/plain": [
       "datetime.datetime(2022, 2, 28, 1, 54, 16, 226318)"
      ]
     },
     "execution_count": 28,
     "metadata": {},
     "output_type": "execute_result"
    }
   ],
   "source": [
    "dt.now()"
   ]
  },
  {
   "cell_type": "code",
   "execution_count": null,
   "metadata": {},
   "outputs": [],
   "source": [
    "size = np.zeros(clusters)\n",
    "\n",
    "for i in range(clusters):\n",
    "    size[i] = len(components[i])\n",
    "    \n",
    "print (\"Cluster sizes:\", size.max(),size.min(), size.mean())\n",
    "\n",
    "statss = np.asarray(stat)\n",
    "\n",
    "with open(<PATH>+\"clusters.pickle\", \"wb\") as fp:   #Pickling\n",
    "    pickle.dump(components, fp)\n",
    "np.save(,PATH>+\"stats\", statss)\n",
    "\n"
   ]
  }
 ],
 "metadata": {
  "kernelspec": {
   "display_name": "Python 3.7.6 ('base')",
   "language": "python",
   "name": "python3"
  },
  "language_info": {
   "codemirror_mode": {
    "name": "ipython",
    "version": 3
   },
   "file_extension": ".py",
   "mimetype": "text/x-python",
   "name": "python",
   "nbconvert_exporter": "python",
   "pygments_lexer": "ipython3",
   "version": "3.7.6"
  },
  "vscode": {
   "interpreter": {
    "hash": "b232dbbb6ac0a26a2cfffe1835ab9f60bd9a8adff4a37905ed176bcf706dae9a"
   }
  }
 },
 "nbformat": 4,
 "nbformat_minor": 4
}
